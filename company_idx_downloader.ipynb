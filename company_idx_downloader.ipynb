{
  "nbformat": 4,
  "nbformat_minor": 0,
  "metadata": {
    "colab": {
      "provenance": []
    },
    "kernelspec": {
      "name": "python3",
      "display_name": "Python 3"
    },
    "language_info": {
      "name": "python"
    }
  },
  "cells": [
    {
      "cell_type": "code",
      "execution_count": 2,
      "metadata": {
        "colab": {
          "base_uri": "https://localhost:8080/"
        },
        "id": "gwC7dPwFDf0g",
        "outputId": "84a04c4c-84c3-4b62-afc9-d6ee09936e99"
      },
      "outputs": [
        {
          "output_type": "stream",
          "name": "stdout",
          "text": [
            "Mounted at /content/drive\n"
          ]
        }
      ],
      "source": [
        "from google.colab import drive\n",
        "drive.mount('/content/drive')"
      ]
    },
    {
      "cell_type": "code",
      "source": [
        "import requests"
      ],
      "metadata": {
        "id": "9Bf0UrKoDteG"
      },
      "execution_count": 3,
      "outputs": []
    },
    {
      "cell_type": "code",
      "source": [
        "year = [str(i) for i in range(2013,2023)]\n",
        "qtrs = ['QTR1','QTR2','QTR3','QTR4']"
      ],
      "metadata": {
        "id": "Z5GXefm2D__N"
      },
      "execution_count": 7,
      "outputs": []
    },
    {
      "cell_type": "code",
      "source": [
        "import os\n",
        "os.chdir(\"/content/drive/MyDrive/CFAR/company_idx\")\n",
        "\n",
        "# Automatically create files\n",
        "count = 0\n",
        "def createfile(filename,content):\n",
        "    name = filename + \".txt\"\n",
        "    fhand = open(name, 'w')\n",
        "    fhand.write(str(content))\n",
        "    fhand.close()\n",
        "    global count\n",
        "    count += 1\n",
        "    print(count)\n",
        "\n",
        "# Download Company.idx file for each quarter of past 10 years\n",
        "unable_request = 0\n",
        "for i in year:\n",
        "    for j in qtrs:\n",
        "        link = 'https://www.sec.gov/Archives/edgar/full-index/%s/%s/company.idx'%(i,j)\n",
        "        \n",
        "        webpage_response = requests.get(link, headers={'User-Agent': 'Mozilla/5.0'}) \n",
        "        if webpage_response.status_code == 200: \n",
        "        # The HTTP 200 OK success status response code indicates that the request has succeeded. \n",
        "            body = webpage_response.text\n",
        "            dest_path = i+'_'+j\n",
        "            createfile(dest_path,body)\n",
        "            \n",
        "\n",
        "        else:\n",
        "            print (\"Unable to get response with Code : %d \" % (webpage_response.status_code))\n",
        "            unable_request += 1"
      ],
      "metadata": {
        "colab": {
          "base_uri": "https://localhost:8080/"
        },
        "id": "y10kJe3IDzkz",
        "outputId": "41382c67-0496-4c7f-c5cb-5c728b244dea"
      },
      "execution_count": 21,
      "outputs": [
        {
          "output_type": "stream",
          "name": "stdout",
          "text": [
            "1\n",
            "2\n",
            "3\n",
            "4\n",
            "5\n",
            "6\n",
            "7\n",
            "8\n",
            "9\n",
            "10\n",
            "11\n",
            "12\n",
            "13\n",
            "14\n",
            "15\n",
            "16\n",
            "17\n",
            "18\n",
            "19\n",
            "20\n",
            "21\n",
            "22\n",
            "23\n",
            "24\n",
            "25\n",
            "26\n",
            "27\n",
            "28\n",
            "29\n",
            "30\n",
            "31\n",
            "32\n",
            "33\n",
            "34\n",
            "35\n",
            "36\n",
            "37\n",
            "38\n",
            "39\n",
            "40\n"
          ]
        }
      ]
    },
    {
      "cell_type": "markdown",
      "source": [
        "To further facilitate the analysis, we need to concatenate the idx files of four quarters to a single file for each year"
      ],
      "metadata": {
        "id": "CKaOucYPIenM"
      }
    },
    {
      "cell_type": "code",
      "source": [
        "# Concatenate the downloaded files\n",
        "for i in year:\n",
        "    file_names = ['/content/drive/MyDrive/CFAR/company_idx/%s_%s.txt'%(i,j) for j in qtrs]\n",
        "    dest_path = '/content/drive/MyDrive/CFAR/company_idx/company_idx_%s.txt'%i\n",
        "    with open(dest_path, 'w') as outfile:\n",
        "        for fname in file_names:\n",
        "            with open(fname) as infile:\n",
        "                for line in infile:\n",
        "                    outfile.write(line)"
      ],
      "metadata": {
        "id": "csJrZLLvIshk"
      },
      "execution_count": 23,
      "outputs": []
    }
  ]
}